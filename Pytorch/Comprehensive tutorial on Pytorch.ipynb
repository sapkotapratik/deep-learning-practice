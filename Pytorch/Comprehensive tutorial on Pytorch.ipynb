{
 "cells": [
  {
   "cell_type": "markdown",
   "metadata": {},
   "source": [
    "# PYTORCH\n",
    "\n",
    "WHAT IS PYTORCH?\n",
    "\n",
    "- It’s a Python-based scientific computing package targeted at two sets of \n",
    "audiences:\n",
    "\n",
    "\n",
    "- A replacement for NumPy to use the power of GPUs\n",
    "a deep learning research platform that provides maximum flexibility \n",
    "and speed\n"
   ]
  },
  {
   "cell_type": "code",
   "execution_count": 1,
   "metadata": {},
   "outputs": [],
   "source": [
    "from __future__ import print_function\n",
    "import torch"
   ]
  },
  {
   "cell_type": "markdown",
   "metadata": {},
   "source": [
    "## Tensors :\n",
    "are similar to Numpy's ndarrays, with the addion being that Tensors can also be used on a GPU  accelerate computing"
   ]
  },
  {
   "cell_type": "code",
   "execution_count": 7,
   "metadata": {},
   "outputs": [
    {
     "name": "stdout",
     "output_type": "stream",
     "text": [
      "tensor([[0.0002, 0.0000],\n",
      "        [0.0000, 0.0000],\n",
      "        [0.0000, 0.0000],\n",
      "        [   nan,    nan],\n",
      "        [0.0000, 0.0000]])\n"
     ]
    }
   ],
   "source": [
    "#Construct a 5*3 matrix, uninitialized\n",
    "x = torch.empty(5,2)\n",
    "print(x)"
   ]
  },
  {
   "cell_type": "code",
   "execution_count": 8,
   "metadata": {},
   "outputs": [
    {
     "name": "stdout",
     "output_type": "stream",
     "text": [
      "tensor([[0.9022, 0.2460, 0.7793],\n",
      "        [0.5753, 0.5323, 0.2901],\n",
      "        [0.6590, 0.2090, 0.7277],\n",
      "        [0.6765, 0.4330, 0.9287],\n",
      "        [0.7294, 0.9931, 0.5188]])\n"
     ]
    }
   ],
   "source": [
    "#construct a randomly initialized matrix\n",
    "x = torch.rand(5,3)\n",
    "print(x)"
   ]
  },
  {
   "cell_type": "code",
   "execution_count": 12,
   "metadata": {},
   "outputs": [
    {
     "name": "stdout",
     "output_type": "stream",
     "text": [
      "tensor([[0, 0, 0],\n",
      "        [0, 0, 0],\n",
      "        [0, 0, 0],\n",
      "        [0, 0, 0],\n",
      "        [0, 0, 0]])\n"
     ]
    },
    {
     "data": {
      "text/plain": [
       "torch.Tensor"
      ]
     },
     "execution_count": 12,
     "metadata": {},
     "output_type": "execute_result"
    }
   ],
   "source": [
    "#Construct a matix filled zeros and of dtype long\n",
    "x = torch.zeros(5,3,dtype=torch.long)\n",
    "print(x)\n",
    "type(x)"
   ]
  },
  {
   "cell_type": "code",
   "execution_count": 11,
   "metadata": {},
   "outputs": [
    {
     "name": "stdout",
     "output_type": "stream",
     "text": [
      "tensor([5.5000, 3.0000])\n"
     ]
    },
    {
     "data": {
      "text/plain": [
       "torch.Tensor"
      ]
     },
     "execution_count": 11,
     "metadata": {},
     "output_type": "execute_result"
    }
   ],
   "source": [
    "#Construct a tensor directly from data:\n",
    "x = torch.tensor([5.5,3])\n",
    "print(x)\n",
    "type(x)"
   ]
  },
  {
   "cell_type": "code",
   "execution_count": 14,
   "metadata": {},
   "outputs": [
    {
     "name": "stdout",
     "output_type": "stream",
     "text": [
      "tensor([[1., 1., 1.],\n",
      "        [1., 1., 1.],\n",
      "        [1., 1., 1.],\n",
      "        [1., 1., 1.],\n",
      "        [1., 1., 1.]], dtype=torch.float64)\n"
     ]
    }
   ],
   "source": [
    "x = x.new_ones(5,3,dtype=torch.double)  # new_*methods take in sizes\n",
    "print(x)\n",
    "#type(x)"
   ]
  },
  {
   "cell_type": "code",
   "execution_count": 16,
   "metadata": {},
   "outputs": [
    {
     "name": "stdout",
     "output_type": "stream",
     "text": [
      "tensor([[0.0193, 0.0238, 0.3067],\n",
      "        [0.7675, 0.4631, 0.7700],\n",
      "        [0.9006, 0.0482, 0.2655],\n",
      "        [0.5588, 0.3542, 0.7828],\n",
      "        [0.3831, 0.3664, 0.3332]])\n"
     ]
    }
   ],
   "source": [
    "x = torch.rand_like(x,dtype=torch.float) # override dtype!\n",
    "print(x)                          #here result has the same size"
   ]
  },
  {
   "cell_type": "code",
   "execution_count": 18,
   "metadata": {},
   "outputs": [
    {
     "name": "stdout",
     "output_type": "stream",
     "text": [
      "torch.Size([5, 3])\n"
     ]
    }
   ],
   "source": [
    "#Get its size\n",
    "print(x.size())\n",
    "\n",
    "#torch.Size is fact a tuple, so it supports all tuple operations."
   ]
  },
  {
   "cell_type": "markdown",
   "metadata": {},
   "source": [
    "# Operations\n"
   ]
  },
  {
   "cell_type": "code",
   "execution_count": 25,
   "metadata": {},
   "outputs": [
    {
     "name": "stdout",
     "output_type": "stream",
     "text": [
      "tensor([[1.8116, 1.9881, 1.5663],\n",
      "        [2.3635, 2.4501, 2.3199],\n",
      "        [2.0639, 1.0690, 1.8914],\n",
      "        [1.9212, 1.3875, 1.8249],\n",
      "        [1.5138, 1.9461, 1.4641]])\n"
     ]
    }
   ],
   "source": [
    "#Addition\n",
    "y = torch.rand(5,3)\n",
    "z = torch.ones(5,3)\n",
    "print(x+y+z)"
   ]
  },
  {
   "cell_type": "code",
   "execution_count": 27,
   "metadata": {},
   "outputs": [
    {
     "name": "stdout",
     "output_type": "stream",
     "text": [
      "tensor([[1.0193, 1.0238, 1.3067],\n",
      "        [1.7675, 1.4631, 1.7700],\n",
      "        [1.9006, 1.0482, 1.2655],\n",
      "        [1.5588, 1.3542, 1.7828],\n",
      "        [1.3831, 1.3664, 1.3332]])\n"
     ]
    }
   ],
   "source": [
    "#Addition: syntax 2\n",
    "print(torch.add(x,z))"
   ]
  },
  {
   "cell_type": "code",
   "execution_count": 31,
   "metadata": {},
   "outputs": [
    {
     "name": "stdout",
     "output_type": "stream",
     "text": [
      "tensor([[0.8116, 0.9881, 0.5663],\n",
      "        [1.3635, 1.4501, 1.3199],\n",
      "        [1.0639, 0.0690, 0.8914],\n",
      "        [0.9212, 0.3875, 0.8249],\n",
      "        [0.5138, 0.9461, 0.4641]])\n"
     ]
    }
   ],
   "source": [
    "#Addition: providing an output tensor as argument\n",
    "result = torch.empty(5,3)\n",
    "torch.add(x,y, out=result)\n",
    "print(result)\n"
   ]
  },
  {
   "cell_type": "code",
   "execution_count": 33,
   "metadata": {},
   "outputs": [
    {
     "name": "stdout",
     "output_type": "stream",
     "text": [
      "tensor([[0.7922, 0.9643, 0.2596],\n",
      "        [0.5960, 0.9870, 0.5499],\n",
      "        [0.1633, 0.0207, 0.6259],\n",
      "        [0.3624, 0.0333, 0.0420],\n",
      "        [0.1307, 0.5797, 0.1309]])\n"
     ]
    }
   ],
   "source": [
    "#Addition in-place\n",
    "#adds x to y\n",
    "y.add(x)\n",
    "print(y)\n",
    "\n"
   ]
  },
  {
   "cell_type": "code",
   "execution_count": 35,
   "metadata": {},
   "outputs": [],
   "source": [
    "#Any operation that mutates a tensor in-place is post-fixed with an _.\n",
    "#For example: x.copy_(y), x.t_(), will change x."
   ]
  },
  {
   "cell_type": "code",
   "execution_count": 37,
   "metadata": {},
   "outputs": [
    {
     "name": "stdout",
     "output_type": "stream",
     "text": [
      "tensor([[0.0193, 0.0238, 0.3067],\n",
      "        [0.7675, 0.4631, 0.7700],\n",
      "        [0.9006, 0.0482, 0.2655],\n",
      "        [0.5588, 0.3542, 0.7828],\n",
      "        [0.3831, 0.3664, 0.3332]])\n",
      "tensor([[0.0193, 0.0238, 0.3067]])\n"
     ]
    }
   ],
   "source": [
    "#You cna use Numpy like indexing with all bells and whistles!\n",
    "print(x)\n",
    "print(x[:1])\n"
   ]
  },
  {
   "cell_type": "code",
   "execution_count": 62,
   "metadata": {},
   "outputs": [
    {
     "name": "stdout",
     "output_type": "stream",
     "text": [
      "torch.Size([4, 4]) torch.Size([16]) torch.Size([16])\n",
      "tensor([[ 0.6953, -2.2587,  1.5000, -1.1908],\n",
      "        [-0.7109,  2.5718,  0.1389,  2.3503],\n",
      "        [ 2.5763, -1.1891,  0.0916,  0.1597],\n",
      "        [ 0.3511,  2.6366,  0.6165, -1.0908]])\n",
      "tensor([ 0.6953, -2.2587,  1.5000, -1.1908, -0.7109,  2.5718,  0.1389,  2.3503,\n",
      "         2.5763, -1.1891,  0.0916,  0.1597,  0.3511,  2.6366,  0.6165, -1.0908])\n"
     ]
    }
   ],
   "source": [
    "#Resizing : If you want to resize/reshape tensor, you can use torch.view\n",
    "\n",
    "x = torch.randn(4,4)\n",
    "y = x.view(16)\n",
    "z = x.view(-1,) # the size -1 is inferred from other dimesions\n",
    "print(x.size(),y.size(),z.size())\n",
    "print(x)\n",
    "print(y)\n",
    "\n"
   ]
  },
  {
   "cell_type": "code",
   "execution_count": 63,
   "metadata": {},
   "outputs": [
    {
     "name": "stdout",
     "output_type": "stream",
     "text": [
      "1\n",
      "tensor([ 0.6953, -2.2587,  1.5000, -1.1908, -0.7109,  2.5718,  0.1389,  2.3503,\n",
      "         2.5763, -1.1891,  0.0916,  0.1597,  0.3511,  2.6366,  0.6165, -1.0908])\n"
     ]
    }
   ],
   "source": [
    "print(y.dim())\n",
    "z.dim()\n",
    "print(z)\n"
   ]
  },
  {
   "cell_type": "code",
   "execution_count": 64,
   "metadata": {},
   "outputs": [
    {
     "name": "stdout",
     "output_type": "stream",
     "text": [
      "tensor([-0.0490])\n",
      "-0.04903619363903999\n"
     ]
    }
   ],
   "source": [
    "# If you have a one element tensor, use .item() to get the value as a Python\n",
    "#number\n",
    "x = torch.randn(1)\n",
    "print(x)\n",
    "print(x.item())"
   ]
  },
  {
   "cell_type": "markdown",
   "metadata": {},
   "source": [
    "###  Read later 100+ Tensor operations, including transposing,indexing,slicing,mathematical operations, linear algebra, random numbers,etc., are present.\n"
   ]
  },
  {
   "cell_type": "code",
   "execution_count": 66,
   "metadata": {},
   "outputs": [],
   "source": [
    "#Numpy Bridge\n",
    "#converting a torch tensor to Numpy array and vice-versa\n"
   ]
  },
  {
   "cell_type": "code",
   "execution_count": 70,
   "metadata": {},
   "outputs": [
    {
     "name": "stdout",
     "output_type": "stream",
     "text": [
      "tensor([1., 1., 1., 1., 1.])\n"
     ]
    },
    {
     "data": {
      "text/plain": [
       "torch.Tensor"
      ]
     },
     "execution_count": 70,
     "metadata": {},
     "output_type": "execute_result"
    }
   ],
   "source": [
    "a = torch.ones(5)\n",
    "print(a)\n",
    "type(a)"
   ]
  },
  {
   "cell_type": "code",
   "execution_count": 69,
   "metadata": {},
   "outputs": [
    {
     "name": "stdout",
     "output_type": "stream",
     "text": [
      "[ 1.  1.  1.  1.  1.]\n"
     ]
    },
    {
     "data": {
      "text/plain": [
       "numpy.ndarray"
      ]
     },
     "execution_count": 69,
     "metadata": {},
     "output_type": "execute_result"
    }
   ],
   "source": [
    "b = a.numpy()\n",
    "print(b)\n",
    "type(b)"
   ]
  },
  {
   "cell_type": "code",
   "execution_count": 77,
   "metadata": {},
   "outputs": [
    {
     "name": "stdout",
     "output_type": "stream",
     "text": [
      "tensor([8., 8., 8., 8., 8.])\n",
      "[ 1.  1.  1.  1.  1.]\n"
     ]
    }
   ],
   "source": [
    "# How numpy array changed in value\n",
    "a.add_(1)\n",
    "print (a)\n",
    "print (b)"
   ]
  },
  {
   "cell_type": "code",
   "execution_count": 80,
   "metadata": {},
   "outputs": [
    {
     "name": "stdout",
     "output_type": "stream",
     "text": [
      "[ 2.  2.  2.  2.  2.]\n",
      "tensor([2., 2., 2., 2., 2.], dtype=torch.float64)\n"
     ]
    }
   ],
   "source": [
    "#Converting Numpy array to torch tensor\n",
    "\n",
    "import numpy as np\n",
    "a = np.ones(5)\n",
    "b = torch.from_numpy(a)\n",
    "np.add(a,1,out=a)\n",
    "print(a)\n",
    "print(b)"
   ]
  },
  {
   "cell_type": "code",
   "execution_count": 81,
   "metadata": {},
   "outputs": [
    {
     "name": "stdout",
     "output_type": "stream",
     "text": [
      "tensor([0.9510], device='cuda:0')\n",
      "tensor([0.9510], dtype=torch.float64)\n"
     ]
    }
   ],
   "source": [
    "#CUDA TENSORS\n",
    "# let us run this cell only if CUDA is available\n",
    "# We will use ``torch.device`` objects to move tensors in and out of GPU\n",
    "if torch.cuda.is_available():\n",
    "    device = torch.device(\"cuda\")          # a CUDA device object\n",
    "    y = torch.ones_like(x, device=device)  # directly create a tensor on GPU\n",
    "    x = x.to(device)                       # or just use strings ``.to(\"cuda\")``\n",
    "    z = x + y\n",
    "    print(z)\n",
    "    print(z.to(\"cpu\", torch.double))       # ``.to`` can also change dtype together!\n"
   ]
  },
  {
   "cell_type": "code",
   "execution_count": null,
   "metadata": {},
   "outputs": [],
   "source": []
  }
 ],
 "metadata": {
  "kernelspec": {
   "display_name": "Python 3",
   "language": "python",
   "name": "python3"
  },
  "language_info": {
   "codemirror_mode": {
    "name": "ipython",
    "version": 3
   },
   "file_extension": ".py",
   "mimetype": "text/x-python",
   "name": "python",
   "nbconvert_exporter": "python",
   "pygments_lexer": "ipython3",
   "version": "3.6.5"
  }
 },
 "nbformat": 4,
 "nbformat_minor": 2
}
