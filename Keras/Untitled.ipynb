{
 "cells": [
  {
   "cell_type": "markdown",
   "metadata": {},
   "source": [
    "- Static and Dynamic Data typing\n",
    "- Python is dynamic data typing \n",
    "- mutable and immutable data type\n"
   ]
  },
  {
   "cell_type": "code",
   "execution_count": 1,
   "metadata": {},
   "outputs": [
    {
     "name": "stdout",
     "output_type": "stream",
     "text": [
      "nepal"
     ]
    }
   ],
   "source": [
    "for x in \"nepal\":\n",
    "    print(x,end=\"\")"
   ]
  },
  {
   "cell_type": "code",
   "execution_count": 2,
   "metadata": {},
   "outputs": [],
   "source": [
    "class BankSystem:\n",
    "    name = str()\n",
    "    amount = float()\n",
    "    def __init__(self,n,a):\n",
    "        self.name = n\n",
    "        self.amount = a\n",
    "        \n",
    "    def deposite(self,a):\n",
    "        self.amount += a\n",
    "        print(\"Thank you for deposit\")\n",
    "    \n",
    "    def withdraw(self,a):\n",
    "        if self.amount >= a:\n",
    "            self.amount -= a\n",
    "            print(\"Thank you for withdraw\")\n",
    "        else:\n",
    "            print(\"You don't have sufficient balance\")\n",
    "        "
   ]
  },
  {
   "cell_type": "code",
   "execution_count": 3,
   "metadata": {},
   "outputs": [
    {
     "name": "stdout",
     "output_type": "stream",
     "text": [
      "Thank you for deposit\n"
     ]
    }
   ],
   "source": [
    "ram = BankSystem(\"Ram Kumar\",10000)\n",
    "# Getter and setter\n",
    "ram.deposite(2000)y\n"
   ]
  },
  {
   "cell_type": "code",
   "execution_count": null,
   "metadata": {},
   "outputs": [],
   "source": []
  }
 ],
 "metadata": {
  "kernelspec": {
   "display_name": "Python 3",
   "language": "python",
   "name": "python3"
  },
  "language_info": {
   "codemirror_mode": {
    "name": "ipython",
    "version": 3
   },
   "file_extension": ".py",
   "mimetype": "text/x-python",
   "name": "python",
   "nbconvert_exporter": "python",
   "pygments_lexer": "ipython3",
   "version": "3.6.5"
  }
 },
 "nbformat": 4,
 "nbformat_minor": 2
}
