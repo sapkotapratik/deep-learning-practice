{
 "cells": [
  {
   "cell_type": "markdown",
   "metadata": {},
   "source": [
    "## Object Localization vs Object Detection\n",
    "\n",
    "#### Sliding window was traditional approach\n",
    "- Object localization using sliding window approach \n",
    "- Annotation tools : LabelMe\n",
    "- TinyYolo : Only uses single node\n",
    "- Image Augumentation and Batch Normalization\n",
    "- maxpooling , down sampling and up sampling -> helps in regularization\n",
    "- ./darknet detect cfg/yolov3-tiny.cfg weights/yolov3-tiny.weights data/....\n",
    "\n",
    "- jaccard similarity to find similar objects \n",
    "- Evaluation --> I O U (region avg IOU) result from training\n",
    "- yolo weights to keras weights load equivalent to keras\n",
    "- xiaochus/yolov3\n",
    "\n"
   ]
  },
  {
   "cell_type": "code",
   "execution_count": null,
   "metadata": {},
   "outputs": [],
   "source": [
    "import numpy as np\n",
    "import matplotlib.pyplot as plt"
   ]
  }
 ],
 "metadata": {
  "kernelspec": {
   "display_name": "Python 3",
   "language": "python",
   "name": "python3"
  },
  "language_info": {
   "codemirror_mode": {
    "name": "ipython",
    "version": 3
   },
   "file_extension": ".py",
   "mimetype": "text/x-python",
   "name": "python",
   "nbconvert_exporter": "python",
   "pygments_lexer": "ipython3",
   "version": "3.6.5"
  }
 },
 "nbformat": 4,
 "nbformat_minor": 2
}
